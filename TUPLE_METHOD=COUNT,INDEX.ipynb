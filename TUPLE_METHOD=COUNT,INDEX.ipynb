{
  "nbformat": 4,
  "nbformat_minor": 0,
  "metadata": {
    "colab": {
      "name": "TUPLE METHOD=COUNT,INDEX.ipynb",
      "provenance": [],
      "collapsed_sections": [],
      "authorship_tag": "ABX9TyM8pzFWgFS0gYOq6Zww/jVD",
      "include_colab_link": true
    },
    "kernelspec": {
      "name": "python3",
      "display_name": "Python 3"
    },
    "language_info": {
      "name": "python"
    }
  },
  "cells": [
    {
      "cell_type": "markdown",
      "metadata": {
        "id": "view-in-github",
        "colab_type": "text"
      },
      "source": [
        "<a href=\"https://colab.research.google.com/github/Kanojiyarahul/PYTHON/blob/main/TUPLE_METHOD%3DCOUNT%2CINDEX.ipynb\" target=\"_parent\"><img src=\"https://colab.research.google.com/assets/colab-badge.svg\" alt=\"Open In Colab\"/></a>"
      ]
    },
    {
      "cell_type": "code",
      "execution_count": null,
      "metadata": {
        "colab": {
          "base_uri": "https://localhost:8080/"
        },
        "id": "7ke43LS2ELtN",
        "outputId": "d70987b8-b209-4fb5-c1e9-6007a2f04304"
      },
      "outputs": [
        {
          "output_type": "stream",
          "name": "stdout",
          "text": [
            "2\n"
          ]
        }
      ],
      "source": [
        "#1.count\n",
        "vowels=('a','e','i','o','u','i')\n",
        "ct=vowels.count('i')\n",
        "print(ct)"
      ]
    },
    {
      "cell_type": "code",
      "source": [
        "#2.index\n",
        "vowels=('a','e','i','o','u','i')\n",
        "ind=vowels.index('i')\n",
        "print(ind)\n"
      ],
      "metadata": {
        "colab": {
          "base_uri": "https://localhost:8080/"
        },
        "id": "E2iKBbx8E069",
        "outputId": "b6c10f87-2cf8-4276-be09-d5b898c31b2f"
      },
      "execution_count": null,
      "outputs": [
        {
          "output_type": "stream",
          "name": "stdout",
          "text": [
            "2\n"
          ]
        }
      ]
    }
  ]
}