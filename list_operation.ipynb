{
  "nbformat": 4,
  "nbformat_minor": 0,
  "metadata": {
    "colab": {
      "name": "list operation.ipynb",
      "provenance": [],
      "collapsed_sections": [],
      "authorship_tag": "ABX9TyNPVVVTNhLCIpuceIcct4m7",
      "include_colab_link": true
    },
    "kernelspec": {
      "name": "python3",
      "display_name": "Python 3"
    },
    "language_info": {
      "name": "python"
    }
  },
  "cells": [
    {
      "cell_type": "markdown",
      "metadata": {
        "id": "view-in-github",
        "colab_type": "text"
      },
      "source": [
        "<a href=\"https://colab.research.google.com/github/Kanojiyarahul/PYTHON/blob/main/list_operation.ipynb\" target=\"_parent\"><img src=\"https://colab.research.google.com/assets/colab-badge.svg\" alt=\"Open In Colab\"/></a>"
      ]
    },
    {
      "cell_type": "code",
      "execution_count": 1,
      "metadata": {
        "colab": {
          "base_uri": "https://localhost:8080/"
        },
        "id": "8rrrj4d2ZZix",
        "outputId": "340666f9-06e1-414f-a678-5f71043d5577"
      },
      "outputs": [
        {
          "output_type": "stream",
          "name": "stdout",
          "text": [
            "Rahul kanojiya\n"
          ]
        }
      ],
      "source": [
        "#concatenation\n",
        "a=\"Rahul\"\n",
        "b=\"kanojiya\"\n",
        "print(a+ \" \" +b)"
      ]
    },
    {
      "cell_type": "code",
      "source": [
        "#replication\n",
        "a=\"calliper\"\n",
        "print(a*3)"
      ],
      "metadata": {
        "colab": {
          "base_uri": "https://localhost:8080/"
        },
        "id": "wrvTbjxBZhd6",
        "outputId": "c822b797-35ac-45bd-dc83-b2e8a440c1b1"
      },
      "execution_count": 2,
      "outputs": [
        {
          "output_type": "stream",
          "name": "stdout",
          "text": [
            "callipercallipercalliper\n"
          ]
        }
      ]
    },
    {
      "cell_type": "code",
      "source": [
        "#indexing\n",
        "x= \"I LOVE PYTHON PROGRAM\"\n",
        "x[7]+x[8]+x[9]+x[10]+x[11]+x[12]"
      ],
      "metadata": {
        "colab": {
          "base_uri": "https://localhost:8080/",
          "height": 35
        },
        "id": "tR7f7s0sZolP",
        "outputId": "ae8cfc80-3d3a-45be-fdd4-2bcf709ce6e2"
      },
      "execution_count": 3,
      "outputs": [
        {
          "output_type": "execute_result",
          "data": {
            "application/vnd.google.colaboratory.intrinsic+json": {
              "type": "string"
            },
            "text/plain": [
              "'PYTHON'"
            ]
          },
          "metadata": {},
          "execution_count": 3
        }
      ]
    },
    {
      "cell_type": "code",
      "source": [
        "#slicing\n",
        "x= \"I LOVE PYTHON PROGRAM\"\n",
        "x[7:22]"
      ],
      "metadata": {
        "colab": {
          "base_uri": "https://localhost:8080/",
          "height": 35
        },
        "id": "v8B5pgCDZooo",
        "outputId": "87d14e36-67c3-4795-9474-1a70d62a54a0"
      },
      "execution_count": 4,
      "outputs": [
        {
          "output_type": "execute_result",
          "data": {
            "application/vnd.google.colaboratory.intrinsic+json": {
              "type": "string"
            },
            "text/plain": [
              "'PYTHON PROGRAM'"
            ]
          },
          "metadata": {},
          "execution_count": 4
        }
      ]
    },
    {
      "cell_type": "code",
      "source": [
        "#update\n",
        "x=[2,4,6,8,10,12,14]\n",
        "x[5]=\"numb\"\n",
        "print(x)"
      ],
      "metadata": {
        "colab": {
          "base_uri": "https://localhost:8080/"
        },
        "id": "yYoW7oaeZ5hw",
        "outputId": "47ce13c3-ce29-4f73-a8cb-6d3da0c5a317"
      },
      "execution_count": 6,
      "outputs": [
        {
          "output_type": "stream",
          "name": "stdout",
          "text": [
            "[2, 4, 6, 8, 10, 'numb', 14]\n"
          ]
        }
      ]
    },
    {
      "cell_type": "code",
      "source": [
        "#delete\n",
        "list=[2,77,88,6,23,1,3]\n",
        "del list[2]\n",
        "print(list)"
      ],
      "metadata": {
        "colab": {
          "base_uri": "https://localhost:8080/"
        },
        "id": "_C9OzAaVceCx",
        "outputId": "25bb4efd-7058-4e10-c34a-349a0ce719d8"
      },
      "execution_count": 8,
      "outputs": [
        {
          "output_type": "stream",
          "name": "stdout",
          "text": [
            "[2, 77, 6, 23, 1, 3]\n"
          ]
        }
      ]
    }
  ]
}