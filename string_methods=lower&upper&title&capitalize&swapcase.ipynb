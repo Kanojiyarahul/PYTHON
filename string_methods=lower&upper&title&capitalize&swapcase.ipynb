{
  "nbformat": 4,
  "nbformat_minor": 0,
  "metadata": {
    "colab": {
      "name": "string methods=lower&upper&title&capitalize&swapcase.ipynb",
      "provenance": [],
      "collapsed_sections": [],
      "authorship_tag": "ABX9TyMFWqz4Pdklf4vCBjIWBI61",
      "include_colab_link": true
    },
    "kernelspec": {
      "name": "python3",
      "display_name": "Python 3"
    },
    "language_info": {
      "name": "python"
    }
  },
  "cells": [
    {
      "cell_type": "markdown",
      "metadata": {
        "id": "view-in-github",
        "colab_type": "text"
      },
      "source": [
        "<a href=\"https://colab.research.google.com/github/Kanojiyarahul/PYTHON/blob/main/string_methods%3Dlower%26upper%26title%26capitalize%26swapcase.ipynb\" target=\"_parent\"><img src=\"https://colab.research.google.com/assets/colab-badge.svg\" alt=\"Open In Colab\"/></a>"
      ]
    },
    {
      "cell_type": "code",
      "source": [
        "#1.lower\n",
        "x= \"i LovE pYTHon ProGrAMinG\"\n",
        "x.lower()"
      ],
      "metadata": {
        "colab": {
          "base_uri": "https://localhost:8080/",
          "height": 35
        },
        "id": "Ku-byr2WtxSw",
        "outputId": "8b9dd9dc-101b-4ac8-ad40-77de2ae747a3"
      },
      "execution_count": null,
      "outputs": [
        {
          "output_type": "execute_result",
          "data": {
            "application/vnd.google.colaboratory.intrinsic+json": {
              "type": "string"
            },
            "text/plain": [
              "'i love python programing'"
            ]
          },
          "metadata": {},
          "execution_count": 3
        }
      ]
    },
    {
      "cell_type": "code",
      "source": [
        "#2.upper\n",
        "x= \"i LovE pYTHon ProGrAMinG\"\n",
        "x.upper()"
      ],
      "metadata": {
        "colab": {
          "base_uri": "https://localhost:8080/",
          "height": 35
        },
        "id": "vS8M2YhQuGJo",
        "outputId": "7197d0f1-3f72-47e0-9ce4-1abd46d04f02"
      },
      "execution_count": null,
      "outputs": [
        {
          "output_type": "execute_result",
          "data": {
            "application/vnd.google.colaboratory.intrinsic+json": {
              "type": "string"
            },
            "text/plain": [
              "'I LOVE PYTHON PROGRAMING'"
            ]
          },
          "metadata": {},
          "execution_count": 3
        }
      ]
    },
    {
      "cell_type": "code",
      "source": [
        "#using variable to store \n",
        "x= \"i LovE pYTHon ProGrAMinG\"\n",
        "low=x.lower()\n",
        "print(low)"
      ],
      "metadata": {
        "colab": {
          "base_uri": "https://localhost:8080/"
        },
        "id": "H38JL97SuP1H",
        "outputId": "207b4148-0d71-4772-c52e-f70981487ddd"
      },
      "execution_count": null,
      "outputs": [
        {
          "output_type": "stream",
          "name": "stdout",
          "text": [
            "i love python programing\n"
          ]
        }
      ]
    },
    {
      "cell_type": "code",
      "source": [
        "#3.title\n",
        "x= \"i LovE pYTHon ProGrAMinG\"\n",
        "x.title()"
      ],
      "metadata": {
        "colab": {
          "base_uri": "https://localhost:8080/",
          "height": 35
        },
        "id": "U9SBx585u8ex",
        "outputId": "bb033f12-68a4-46b9-d094-f030a45cdb73"
      },
      "execution_count": null,
      "outputs": [
        {
          "output_type": "execute_result",
          "data": {
            "application/vnd.google.colaboratory.intrinsic+json": {
              "type": "string"
            },
            "text/plain": [
              "'I Love Python Programing'"
            ]
          },
          "metadata": {},
          "execution_count": 7
        }
      ]
    },
    {
      "cell_type": "code",
      "source": [
        "#4.capitalize\n",
        "x= \"i LovE pYTHon ProGrAMinG\"\n",
        "x.capitalize()"
      ],
      "metadata": {
        "colab": {
          "base_uri": "https://localhost:8080/",
          "height": 35
        },
        "id": "btEp5SJKvy_h",
        "outputId": "9d1c74f2-a74a-4c30-fd70-3eb28888d6d0"
      },
      "execution_count": null,
      "outputs": [
        {
          "output_type": "execute_result",
          "data": {
            "application/vnd.google.colaboratory.intrinsic+json": {
              "type": "string"
            },
            "text/plain": [
              "'I love python programing'"
            ]
          },
          "metadata": {},
          "execution_count": 8
        }
      ]
    },
    {
      "cell_type": "code",
      "source": [
        "#5.swapcase\n",
        "x= \"i LovE pYTHon ProGrAMinG\"\n",
        "x.swapcase()"
      ],
      "metadata": {
        "colab": {
          "base_uri": "https://localhost:8080/",
          "height": 35
        },
        "id": "SAwrfbnSv9-w",
        "outputId": "974a9faf-a0cc-4079-b8d8-ca05eba89ae3"
      },
      "execution_count": null,
      "outputs": [
        {
          "output_type": "execute_result",
          "data": {
            "application/vnd.google.colaboratory.intrinsic+json": {
              "type": "string"
            },
            "text/plain": [
              "'I lOVe PythON pROgRamINg'"
            ]
          },
          "metadata": {},
          "execution_count": 9
        }
      ]
    },
    {
      "cell_type": "code",
      "source": [
        "#6.find\n",
        "x=\"i love python programming and python\"\n",
        "print(x[x.find('p'):x.find('n')+1])"
      ],
      "metadata": {
        "colab": {
          "base_uri": "https://localhost:8080/"
        },
        "id": "YqBJybqT8n_M",
        "outputId": "9d043618-8b6f-4d67-de91-59937f6db2c1"
      },
      "execution_count": null,
      "outputs": [
        {
          "output_type": "stream",
          "name": "stdout",
          "text": [
            "python\n"
          ]
        }
      ]
    },
    {
      "cell_type": "code",
      "source": [
        "#find\n",
        "x=\"i love python programming and python\"\n",
        "print(x.find('python',5))"
      ],
      "metadata": {
        "colab": {
          "base_uri": "https://localhost:8080/"
        },
        "id": "4gwEHwhP8rUM",
        "outputId": "6081c0a7-cf9d-4208-edbf-66cb45936c84"
      },
      "execution_count": null,
      "outputs": [
        {
          "output_type": "stream",
          "name": "stdout",
          "text": [
            "7\n"
          ]
        }
      ]
    },
    {
      "cell_type": "code",
      "source": [
        "#7.count\n",
        "x=\"i love python programming and python\"\n",
        "print(x.count('python'))"
      ],
      "metadata": {
        "colab": {
          "base_uri": "https://localhost:8080/"
        },
        "id": "j6NhQLQP8xZh",
        "outputId": "2cb8d9c8-fbed-4254-9a5f-924b3274fc0b"
      },
      "execution_count": null,
      "outputs": [
        {
          "output_type": "stream",
          "name": "stdout",
          "text": [
            "2\n"
          ]
        }
      ]
    },
    {
      "cell_type": "code",
      "source": [
        "#8.replace\n",
        "x=\"i love python programming and python\"\n",
        "print(x.replace('python','Golong'))"
      ],
      "metadata": {
        "colab": {
          "base_uri": "https://localhost:8080/"
        },
        "id": "nxxOW_wY8216",
        "outputId": "0721d6eb-4b63-40a3-d239-0cb15915ee6f"
      },
      "execution_count": null,
      "outputs": [
        {
          "output_type": "stream",
          "name": "stdout",
          "text": [
            "i love Golong programming and Golong\n"
          ]
        }
      ]
    },
    {
      "cell_type": "code",
      "source": [
        "#9.format\n",
        "name=\"rahul\"\n",
        "age=\"23\"\n",
        "x=(\"My name is {},my age is {}\".format(name,age))\n",
        "print(x)"
      ],
      "metadata": {
        "colab": {
          "base_uri": "https://localhost:8080/"
        },
        "id": "VnMwVPHb9JoQ",
        "outputId": "3d12c088-fe46-4805-d3e6-2b3f8f5e7c9d"
      },
      "execution_count": null,
      "outputs": [
        {
          "output_type": "stream",
          "name": "stdout",
          "text": [
            "My name is rahul,my age is 23\n"
          ]
        }
      ]
    },
    {
      "cell_type": "code",
      "source": [
        "#format\n",
        "name=\"rahul\"\n",
        "age=\"23\"\n",
        "x=(\"My name is {x},my age is {y}\".format(x=name,y=age))\n",
        "print(x)"
      ],
      "metadata": {
        "colab": {
          "base_uri": "https://localhost:8080/"
        },
        "id": "a0raDr1h9Vyx",
        "outputId": "6cdf5351-4d52-4ae2-8997-8b06c295cf58"
      },
      "execution_count": null,
      "outputs": [
        {
          "output_type": "stream",
          "name": "stdout",
          "text": [
            "My name is rahul,my age is 23\n"
          ]
        }
      ]
    },
    {
      "cell_type": "code",
      "source": [
        "#format\n",
        "name=\"rahul\"\n",
        "age=\"23\"\n",
        "print(f\"my name is {name} my age is {age}\")\n",
        "print(x)"
      ],
      "metadata": {
        "colab": {
          "base_uri": "https://localhost:8080/"
        },
        "id": "KjtAdiBA9eya",
        "outputId": "5c3ab95f-c1ff-460b-af77-247adcd39c75"
      },
      "execution_count": null,
      "outputs": [
        {
          "output_type": "stream",
          "name": "stdout",
          "text": [
            "my name is rahul my age is 23\n",
            "My name is rahul,my age is 23\n"
          ]
        }
      ]
    },
    {
      "cell_type": "code",
      "source": [
        "#10.split\n",
        "x=\"i love python programming and python\"\n",
        "x.split()"
      ],
      "metadata": {
        "colab": {
          "base_uri": "https://localhost:8080/"
        },
        "id": "1A1S0F1M9v63",
        "outputId": "28fbb536-d6e2-4bd3-f843-2912ebe41850"
      },
      "execution_count": null,
      "outputs": [
        {
          "output_type": "execute_result",
          "data": {
            "text/plain": [
              "['i', 'love', 'python', 'programming', 'and', 'python']"
            ]
          },
          "metadata": {},
          "execution_count": 8
        }
      ]
    },
    {
      "cell_type": "code",
      "source": [
        "#split\n",
        "y=\"abc123@gmail.com\"\n",
        "y.split(\"@\")"
      ],
      "metadata": {
        "colab": {
          "base_uri": "https://localhost:8080/"
        },
        "id": "3YKpCwgK9y0a",
        "outputId": "d9520aa6-ef17-4b7e-835e-4286a61bab15"
      },
      "execution_count": null,
      "outputs": [
        {
          "output_type": "execute_result",
          "data": {
            "text/plain": [
              "['abc123', 'gmail.com']"
            ]
          },
          "metadata": {},
          "execution_count": 9
        }
      ]
    },
    {
      "cell_type": "code",
      "source": [
        "#split\n",
        "y=\"abc123@gmail.com\"\n",
        "y.split()"
      ],
      "metadata": {
        "colab": {
          "base_uri": "https://localhost:8080/"
        },
        "id": "k269oMHF93io",
        "outputId": "5de33ff2-a414-4a05-a019-3c9b04189905"
      },
      "execution_count": null,
      "outputs": [
        {
          "output_type": "execute_result",
          "data": {
            "text/plain": [
              "['abc123@gmail.com']"
            ]
          },
          "metadata": {},
          "execution_count": 10
        }
      ]
    },
    {
      "cell_type": "code",
      "source": [
        "#split\n",
        "y=\"abc123@gmail.com\"\n",
        "y.split(\"@\")[1]"
      ],
      "metadata": {
        "colab": {
          "base_uri": "https://localhost:8080/",
          "height": 35
        },
        "id": "r7JwZxC496Xe",
        "outputId": "3a2d7b80-9d26-4333-dc7b-901ff047ac17"
      },
      "execution_count": null,
      "outputs": [
        {
          "output_type": "execute_result",
          "data": {
            "application/vnd.google.colaboratory.intrinsic+json": {
              "type": "string"
            },
            "text/plain": [
              "'gmail.com'"
            ]
          },
          "metadata": {},
          "execution_count": 11
        }
      ]
    },
    {
      "cell_type": "code",
      "source": [
        "#11.join\n",
        "x=[\"I\",\"love\"]\n",
        "\"#\".join(x)\n"
      ],
      "metadata": {
        "colab": {
          "base_uri": "https://localhost:8080/",
          "height": 35
        },
        "id": "rnRxI20O-G8q",
        "outputId": "61fcb4c8-8fa4-45bf-8e39-2573b3314141"
      },
      "execution_count": null,
      "outputs": [
        {
          "output_type": "execute_result",
          "data": {
            "application/vnd.google.colaboratory.intrinsic+json": {
              "type": "string"
            },
            "text/plain": [
              "'I#love'"
            ]
          },
          "metadata": {},
          "execution_count": 12
        }
      ]
    },
    {
      "cell_type": "code",
      "source": [
        "#12.lstrip\n",
        "lr= \"   jack\"\n",
        "x= lr.lstrip()\n",
        "print(x)"
      ],
      "metadata": {
        "colab": {
          "base_uri": "https://localhost:8080/"
        },
        "id": "iUGqjwOk-TR4",
        "outputId": "d4ddce97-765c-41f0-fdad-1f0362d97627"
      },
      "execution_count": null,
      "outputs": [
        {
          "output_type": "stream",
          "name": "stdout",
          "text": [
            "jack\n"
          ]
        }
      ]
    },
    {
      "cell_type": "code",
      "source": [
        "#13.rstrip\n",
        "lr= \"   jack         \"\n",
        "x= lr.rstrip()\n",
        "print(x)"
      ],
      "metadata": {
        "colab": {
          "base_uri": "https://localhost:8080/"
        },
        "id": "KKnG7T76-TU5",
        "outputId": "e13898bc-bc8b-4922-eafe-5a3e426a38f0"
      },
      "execution_count": null,
      "outputs": [
        {
          "output_type": "stream",
          "name": "stdout",
          "text": [
            "   jack\n"
          ]
        }
      ]
    },
    {
      "cell_type": "code",
      "source": [
        "#14.strip\n",
        "lr= \"         jack         \"\n",
        "x= lr.strip()\n",
        "print(x)"
      ],
      "metadata": {
        "colab": {
          "base_uri": "https://localhost:8080/"
        },
        "id": "FGYdGaZP-TXn",
        "outputId": "b97e4406-b780-4576-a567-3628d5b8b24f"
      },
      "execution_count": null,
      "outputs": [
        {
          "output_type": "stream",
          "name": "stdout",
          "text": [
            "jack\n"
          ]
        }
      ]
    },
    {
      "cell_type": "code",
      "source": [
        "#15.center\n",
        "lr= \"         jack         \"\n",
        "x= lr.center(7)\n",
        "print(x)\n"
      ],
      "metadata": {
        "colab": {
          "base_uri": "https://localhost:8080/"
        },
        "id": "Ab2kipQu-Ta8",
        "outputId": "cc470b63-faa5-4f02-f175-73bd5d67a312"
      },
      "execution_count": null,
      "outputs": [
        {
          "output_type": "stream",
          "name": "stdout",
          "text": [
            "         jack         \n"
          ]
        }
      ]
    },
    {
      "cell_type": "code",
      "source": [
        "#16.startswith\n",
        "lr= \"jack,is a good creator\"\n",
        "x= lr.startswith(\"a\")\n",
        "print(x)"
      ],
      "metadata": {
        "colab": {
          "base_uri": "https://localhost:8080/"
        },
        "id": "R3g-KxPP-T7w",
        "outputId": "20bd577c-0a8b-4222-846c-df46dcfd6e09"
      },
      "execution_count": null,
      "outputs": [
        {
          "output_type": "stream",
          "name": "stdout",
          "text": [
            "False\n"
          ]
        }
      ]
    },
    {
      "cell_type": "code",
      "source": [
        "#17.endswith\n",
        "lr= \"jack,is a good creator\"\n",
        "x= lr.endswith(\"creator\")\n",
        "print(x)"
      ],
      "metadata": {
        "colab": {
          "base_uri": "https://localhost:8080/"
        },
        "id": "8BeycMVG-Ugc",
        "outputId": "389cb389-baef-4115-e94f-294727412e6e"
      },
      "execution_count": null,
      "outputs": [
        {
          "output_type": "stream",
          "name": "stdout",
          "text": [
            "True\n"
          ]
        }
      ]
    }
  ]
}