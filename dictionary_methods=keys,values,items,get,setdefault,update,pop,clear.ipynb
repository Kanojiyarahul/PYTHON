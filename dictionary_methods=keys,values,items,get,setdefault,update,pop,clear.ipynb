{
  "nbformat": 4,
  "nbformat_minor": 0,
  "metadata": {
    "colab": {
      "name": "dictionary methods=keys,values,items,get,setdefault,update,pop,clear.ipynb",
      "provenance": [],
      "collapsed_sections": [],
      "authorship_tag": "ABX9TyPrn+IvMRfHf9latedVhwdv",
      "include_colab_link": true
    },
    "kernelspec": {
      "name": "python3",
      "display_name": "Python 3"
    },
    "language_info": {
      "name": "python"
    }
  },
  "cells": [
    {
      "cell_type": "markdown",
      "metadata": {
        "id": "view-in-github",
        "colab_type": "text"
      },
      "source": [
        "<a href=\"https://colab.research.google.com/github/Kanojiyarahul/PYTHON/blob/main/dictionary_methods%3Dkeys%2Cvalues%2Citems%2Cget%2Csetdefault%2Cupdate%2Cpop%2Cclear.ipynb\" target=\"_parent\"><img src=\"https://colab.research.google.com/assets/colab-badge.svg\" alt=\"Open In Colab\"/></a>"
      ]
    },
    {
      "cell_type": "code",
      "execution_count": null,
      "metadata": {
        "colab": {
          "base_uri": "https://localhost:8080/"
        },
        "id": "MTjj1-97K4pY",
        "outputId": "714166c1-e58f-4f8f-db1c-5ca243e863ae"
      },
      "outputs": [
        {
          "output_type": "execute_result",
          "data": {
            "text/plain": [
              "dict_keys(['father', 'mother', 'sister'])"
            ]
          },
          "metadata": {},
          "execution_count": 1
        }
      ],
      "source": [
        "#dictionory methods\n",
        "#1 d.keys()\n",
        "d={'father':54,'mother':50,'sister':26}\n",
        "d.keys()\n"
      ]
    },
    {
      "cell_type": "code",
      "source": [
        "#2 d.values()\n",
        "d={'father':54,'mother':50,'sister':26}\n",
        "d.values()"
      ],
      "metadata": {
        "colab": {
          "base_uri": "https://localhost:8080/"
        },
        "id": "N9xG-HIBLZ_5",
        "outputId": "19767421-c069-45ea-f353-3a07611eb592"
      },
      "execution_count": null,
      "outputs": [
        {
          "output_type": "execute_result",
          "data": {
            "text/plain": [
              "dict_values([54, 50, 26])"
            ]
          },
          "metadata": {},
          "execution_count": 2
        }
      ]
    },
    {
      "cell_type": "code",
      "source": [
        "#3 d.item()\n",
        "d={'father':54,'mother':50,'sister':26}\n",
        "d.items()"
      ],
      "metadata": {
        "id": "UkYXwlU6MHAf",
        "outputId": "6c8769fa-7fcc-415b-902b-2ecec316c995",
        "colab": {
          "base_uri": "https://localhost:8080/"
        }
      },
      "execution_count": null,
      "outputs": [
        {
          "output_type": "execute_result",
          "data": {
            "text/plain": [
              "dict_items([('father', 54), ('mother', 50), ('sister', 26)])"
            ]
          },
          "metadata": {},
          "execution_count": 2
        }
      ]
    },
    {
      "cell_type": "code",
      "source": [
        "#4 d.get()\n",
        "d={'father':54,'mother':50,'sister':26}\n",
        "d.get('mother')"
      ],
      "metadata": {
        "id": "0uYTrX2oMLkP",
        "outputId": "295e6c8a-cbcb-45dc-a398-6f4964eef32a",
        "colab": {
          "base_uri": "https://localhost:8080/"
        }
      },
      "execution_count": null,
      "outputs": [
        {
          "output_type": "execute_result",
          "data": {
            "text/plain": [
              "50"
            ]
          },
          "metadata": {},
          "execution_count": 2
        }
      ]
    },
    {
      "cell_type": "code",
      "source": [
        "#5 d.get()\n",
        "d={'father':54,'mother':50,'sister':26}\n",
        "d.get('uncle',47)"
      ],
      "metadata": {
        "colab": {
          "base_uri": "https://localhost:8080/"
        },
        "id": "jlWuzIsWMYFG",
        "outputId": "32d9ae16-7e1c-4981-f71a-7c2f0cb6c4ad"
      },
      "execution_count": null,
      "outputs": [
        {
          "output_type": "execute_result",
          "data": {
            "text/plain": [
              "47"
            ]
          },
          "metadata": {},
          "execution_count": 1
        }
      ]
    },
    {
      "cell_type": "code",
      "source": [
        " #6 d.setdefault()\n",
        "d={'father':54,'mother':50,'sister':26}\n",
        "d.setdefault('uncle',47)\n",
        "print(d)"
      ],
      "metadata": {
        "colab": {
          "base_uri": "https://localhost:8080/"
        },
        "id": "9qpXT8JoNcxf",
        "outputId": "5fb3caed-d13f-4f59-f5df-6004e65b39b6"
      },
      "execution_count": null,
      "outputs": [
        {
          "output_type": "execute_result",
          "data": {
            "text/plain": [
              "47"
            ]
          },
          "metadata": {},
          "execution_count": 4
        }
      ]
    },
    {
      "cell_type": "code",
      "source": [
        "#7 d.update()\n",
        "n={'a':10,'b':20,'c':30}\n",
        "d.update(n)\n",
        "print(d)"
      ],
      "metadata": {
        "colab": {
          "base_uri": "https://localhost:8080/"
        },
        "id": "7yrVynbzOOCw",
        "outputId": "b85e1916-fc86-42b9-ff74-2abbff605eb8"
      },
      "execution_count": null,
      "outputs": [
        {
          "output_type": "stream",
          "name": "stdout",
          "text": [
            "{'father': 54, 'mother': 50, 'sister': 26, 'uncle': 47, 'a': 10, 'b': 20, 'c': 30}\n"
          ]
        }
      ]
    },
    {
      "cell_type": "code",
      "source": [
        "#8 d.pop()\n",
        "n={'a':10,'b':20,'c':30}\n",
        "d.pop('b')\n",
        "print(d)"
      ],
      "metadata": {
        "colab": {
          "base_uri": "https://localhost:8080/"
        },
        "id": "bGsxl5RmOctd",
        "outputId": "84510a72-7c9a-4825-8a46-4d6f29bf7c8c"
      },
      "execution_count": null,
      "outputs": [
        {
          "output_type": "stream",
          "name": "stdout",
          "text": [
            "{'father': 54, 'mother': 50, 'sister': 26, 'uncle': 47, 'a': 10, 'c': 30}\n"
          ]
        }
      ]
    },
    {
      "cell_type": "code",
      "source": [
        "#clear\n",
        "d = {1: \"one\", 2: \"two\"}\n",
        "\n",
        "d.clear()\n",
        "print('d =', d)"
      ],
      "metadata": {
        "colab": {
          "base_uri": "https://localhost:8080/"
        },
        "id": "rpBqmMWQDCXZ",
        "outputId": "241e86cd-cc2a-40e8-a575-cc07f866bc5f"
      },
      "execution_count": null,
      "outputs": [
        {
          "output_type": "stream",
          "name": "stdout",
          "text": [
            "d = {}\n"
          ]
        }
      ]
    }
  ]
}