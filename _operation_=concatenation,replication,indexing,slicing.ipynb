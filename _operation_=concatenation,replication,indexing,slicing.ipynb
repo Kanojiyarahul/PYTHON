{
  "nbformat": 4,
  "nbformat_minor": 0,
  "metadata": {
    "colab": {
      "name": "#operation =concatenation,replication,indexing,slicing.ipynb",
      "provenance": [],
      "collapsed_sections": [],
      "authorship_tag": "ABX9TyPNz1k+M7xb7H2zxX8CmrCS",
      "include_colab_link": true
    },
    "kernelspec": {
      "name": "python3",
      "display_name": "Python 3"
    },
    "language_info": {
      "name": "python"
    }
  },
  "cells": [
    {
      "cell_type": "markdown",
      "metadata": {
        "id": "view-in-github",
        "colab_type": "text"
      },
      "source": [
        "<a href=\"https://colab.research.google.com/github/Kanojiyarahul/PYTHON/blob/main/_operation_%3Dconcatenation%2Creplication%2Cindexing%2Cslicing.ipynb\" target=\"_parent\"><img src=\"https://colab.research.google.com/assets/colab-badge.svg\" alt=\"Open In Colab\"/></a>"
      ]
    },
    {
      "cell_type": "code",
      "source": [
        "#concatenation\n",
        "a=\"Rahul\"\n",
        "b=\"kanojiya\"\n",
        "print(a+ \" \" +b)"
      ],
      "metadata": {
        "id": "vPG4pgvAscih",
        "colab": {
          "base_uri": "https://localhost:8080/"
        },
        "outputId": "c63a5d63-8853-4e3a-b6be-b8d7e24b8208"
      },
      "execution_count": null,
      "outputs": [
        {
          "output_type": "stream",
          "name": "stdout",
          "text": [
            "Rahul kanojiya\n"
          ]
        }
      ]
    },
    {
      "cell_type": "code",
      "source": [
        "#replication\n",
        "a=\"calliper\"\n",
        "print(a*3)"
      ],
      "metadata": {
        "colab": {
          "base_uri": "https://localhost:8080/"
        },
        "id": "jLB4_SlC7bAL",
        "outputId": "4158b901-c43a-4729-e785-bcfa7e261436"
      },
      "execution_count": null,
      "outputs": [
        {
          "output_type": "stream",
          "name": "stdout",
          "text": [
            "callipercallipercalliper\n"
          ]
        }
      ]
    },
    {
      "cell_type": "code",
      "source": [
        "#indexing\n",
        "x= \"I LOVE PYTHON PROGRAM\"\n",
        "x[7]+x[8]+x[9]+x[10]+x[11]+x[12]\n",
        "\n"
      ],
      "metadata": {
        "colab": {
          "base_uri": "https://localhost:8080/",
          "height": 35
        },
        "id": "qWZmNVKw6BAK",
        "outputId": "fd94d52c-1350-4797-9290-4a1ab44e6909"
      },
      "execution_count": null,
      "outputs": [
        {
          "output_type": "execute_result",
          "data": {
            "application/vnd.google.colaboratory.intrinsic+json": {
              "type": "string"
            },
            "text/plain": [
              "'PYTHON'"
            ]
          },
          "metadata": {},
          "execution_count": 6
        }
      ]
    },
    {
      "cell_type": "code",
      "source": [
        "#slicing\n",
        "x= \"I LOVE PYTHON PROGRAM\"\n",
        "x[7:22]"
      ],
      "metadata": {
        "colab": {
          "base_uri": "https://localhost:8080/",
          "height": 35
        },
        "id": "EiCMDjwt6gPJ",
        "outputId": "56f81dc9-bb94-4a25-a622-efc7decbf470"
      },
      "execution_count": null,
      "outputs": [
        {
          "output_type": "execute_result",
          "data": {
            "application/vnd.google.colaboratory.intrinsic+json": {
              "type": "string"
            },
            "text/plain": [
              "'PYTHON PROGRAM'"
            ]
          },
          "metadata": {},
          "execution_count": 8
        }
      ]
    }
  ]
}