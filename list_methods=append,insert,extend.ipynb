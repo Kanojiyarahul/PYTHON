{
  "nbformat": 4,
  "nbformat_minor": 0,
  "metadata": {
    "colab": {
      "name": "list methods=append,insert,extend.ipynb",
      "provenance": [],
      "collapsed_sections": [],
      "authorship_tag": "ABX9TyOFoZXN7xDj+jdBDP+on3vi",
      "include_colab_link": true
    },
    "kernelspec": {
      "name": "python3",
      "display_name": "Python 3"
    },
    "language_info": {
      "name": "python"
    }
  },
  "cells": [
    {
      "cell_type": "markdown",
      "metadata": {
        "id": "view-in-github",
        "colab_type": "text"
      },
      "source": [
        "<a href=\"https://colab.research.google.com/github/Kanojiyarahul/PYTHON/blob/main/list_methods%3Dappend%2Cinsert%2Cextend.ipynb\" target=\"_parent\"><img src=\"https://colab.research.google.com/assets/colab-badge.svg\" alt=\"Open In Colab\"/></a>"
      ]
    },
    {
      "cell_type": "code",
      "execution_count": null,
      "metadata": {
        "colab": {
          "base_uri": "https://localhost:8080/"
        },
        "id": "Y58Ji_ZFCVhQ",
        "outputId": "a776c4d1-f7e4-4761-f861-7d891b4cfaf4"
      },
      "outputs": [
        {
          "output_type": "stream",
          "name": "stdout",
          "text": [
            "[1, 2, 3, 4, 7, 9, 10]\n"
          ]
        }
      ],
      "source": [
        "#1append\n",
        "x=[1,2,3,4,7,9]\n",
        "x.append(10)\n",
        "print(x)"
      ]
    },
    {
      "cell_type": "code",
      "source": [
        "#2insert\n",
        "x=[1,3,4,5,7,9]\n",
        "x.insert(1,\"2\")\n",
        "print(x)\n"
      ],
      "metadata": {
        "colab": {
          "base_uri": "https://localhost:8080/"
        },
        "id": "WKBFjQnnDxvc",
        "outputId": "b19f2766-207e-49b5-d424-14e89d2289e9"
      },
      "execution_count": null,
      "outputs": [
        {
          "output_type": "stream",
          "name": "stdout",
          "text": [
            "[1, '2', 3, 4, 5, 7, 9]\n"
          ]
        }
      ]
    },
    {
      "cell_type": "code",
      "source": [
        "#3extend\n",
        "x=[1,3,4,5,7,9]\n",
        "x.extend([2,6,8])\n",
        "print(x)"
      ],
      "metadata": {
        "colab": {
          "base_uri": "https://localhost:8080/"
        },
        "id": "yu-IYm4fFQOJ",
        "outputId": "639e6e65-872b-4464-9932-a8b532732d12"
      },
      "execution_count": null,
      "outputs": [
        {
          "output_type": "stream",
          "name": "stdout",
          "text": [
            "[1, 3, 4, 5, 7, 9, 2, 6, 8]\n"
          ]
        }
      ]
    },
    {
      "cell_type": "code",
      "source": [
        "#append\n",
        "x=[1,3,4,5,7,9]\n",
        "x.append(\"and so on\")\n",
        "print(x)"
      ],
      "metadata": {
        "colab": {
          "base_uri": "https://localhost:8080/"
        },
        "id": "IyRC8BWWGZRZ",
        "outputId": "5d96ec08-36a2-42ce-b3c4-e1940bae077f"
      },
      "execution_count": null,
      "outputs": [
        {
          "output_type": "stream",
          "name": "stdout",
          "text": [
            "[1, 3, 4, 5, 7, 9, 'and so on']\n"
          ]
        }
      ]
    },
    {
      "cell_type": "code",
      "source": [
        "#extend\n",
        "x=[1,3,4,5,7,9]\n",
        "x.extend(\"this is extend\")\n",
        "print(x)"
      ],
      "metadata": {
        "colab": {
          "base_uri": "https://localhost:8080/"
        },
        "id": "UaowpM8DGrng",
        "outputId": "ecdf4d0f-c25a-4220-f860-0a17fbe9896e"
      },
      "execution_count": null,
      "outputs": [
        {
          "output_type": "stream",
          "name": "stdout",
          "text": [
            "[1, 3, 4, 5, 7, 9, 't', 'h', 'i', 's', ' ', 'i', 's', ' ', 'e', 'x', 't', 'e', 'n', 'd']\n"
          ]
        }
      ]
    },
    {
      "cell_type": "code",
      "source": [
        "#4remove\n",
        "x=[1,56,78,89,5,99,76,80]\n",
        "x.remove(5)\n",
        "print(x)"
      ],
      "metadata": {
        "colab": {
          "base_uri": "https://localhost:8080/"
        },
        "id": "HOZxB6cT_Vlg",
        "outputId": "ed627581-77d4-451c-9d92-1a9f757c1f16"
      },
      "execution_count": null,
      "outputs": [
        {
          "output_type": "stream",
          "name": "stdout",
          "text": [
            "[1, 56, 78, 89, 99, 76, 80]\n"
          ]
        }
      ]
    },
    {
      "cell_type": "code",
      "source": [
        "#5pop\n",
        "x=[1,56,78,89,5,99,76,80]\n",
        "x.pop(5)\n",
        "print(x)"
      ],
      "metadata": {
        "colab": {
          "base_uri": "https://localhost:8080/"
        },
        "id": "khETwLd7_igi",
        "outputId": "5a67f886-2b43-4487-e10f-8e5cb68b0fcd"
      },
      "execution_count": null,
      "outputs": [
        {
          "output_type": "stream",
          "name": "stdout",
          "text": [
            "[1, 56, 78, 89, 5, 76, 80]\n"
          ]
        }
      ]
    },
    {
      "cell_type": "code",
      "source": [
        "#pop\n",
        "x=[1,56,78,89,5,99,76,80]\n",
        "x.pop()\n",
        "print(x)"
      ],
      "metadata": {
        "colab": {
          "base_uri": "https://localhost:8080/"
        },
        "id": "8C4YxOEO_l8A",
        "outputId": "6820d2d2-ff16-4b23-bd3a-a429d0830434"
      },
      "execution_count": null,
      "outputs": [
        {
          "output_type": "stream",
          "name": "stdout",
          "text": [
            "[1, 56, 78, 89, 5, 99, 76]\n"
          ]
        }
      ]
    },
    {
      "cell_type": "code",
      "source": [
        "#6index\n",
        "x=[1,56,78,89,5,99,76,80]\n",
        "x.index(78)"
      ],
      "metadata": {
        "colab": {
          "base_uri": "https://localhost:8080/"
        },
        "id": "M_o6fIC6_nM8",
        "outputId": "8895ce7b-b0ac-4761-c8b4-3c1310ac363b"
      },
      "execution_count": null,
      "outputs": [
        {
          "output_type": "execute_result",
          "data": {
            "text/plain": [
              "2"
            ]
          },
          "metadata": {},
          "execution_count": 4
        }
      ]
    },
    {
      "cell_type": "code",
      "source": [
        "#7reverese\n",
        "x=[8,3,6,4,7,33,8,0]\n",
        "x.reverse()\n",
        "print(x)"
      ],
      "metadata": {
        "colab": {
          "base_uri": "https://localhost:8080/"
        },
        "id": "Px1OCzXe_1a8",
        "outputId": "3c2f622b-3309-4f45-c863-1f2a48618827"
      },
      "execution_count": null,
      "outputs": [
        {
          "output_type": "stream",
          "name": "stdout",
          "text": [
            "[0, 8, 33, 7, 4, 6, 3, 8]\n"
          ]
        }
      ]
    },
    {
      "cell_type": "code",
      "source": [
        "#8sort\n",
        "x=[8,3,6,4,7,33,8,0]\n",
        "x.sort()\n",
        "print(x)"
      ],
      "metadata": {
        "colab": {
          "base_uri": "https://localhost:8080/"
        },
        "id": "ZMCN3BAc_5bP",
        "outputId": "2589f5e8-5258-45f4-c176-0650da530cf3"
      },
      "execution_count": null,
      "outputs": [
        {
          "output_type": "stream",
          "name": "stdout",
          "text": [
            "[0, 3, 4, 6, 7, 8, 8, 33]\n"
          ]
        }
      ]
    },
    {
      "cell_type": "code",
      "source": [
        "#sort\n",
        "x=['C','b','a','B','c','A']\n",
        "x.sort()\n",
        "print(x)"
      ],
      "metadata": {
        "colab": {
          "base_uri": "https://localhost:8080/"
        },
        "id": "fygPb_1K_6bb",
        "outputId": "5e39d86f-3596-46ec-de29-2a845b598431"
      },
      "execution_count": null,
      "outputs": [
        {
          "output_type": "stream",
          "name": "stdout",
          "text": [
            "['A', 'B', 'C', 'a', 'b', 'c']\n"
          ]
        }
      ]
    },
    {
      "cell_type": "code",
      "source": [
        "#x.sort(key=str.lower)\n",
        "x=['C','b','a','B','c','A']\n",
        "x.sort(key=str.lower)\n",
        "print(x)"
      ],
      "metadata": {
        "id": "jt7vkSo9_-qL",
        "outputId": "cd75859c-c8eb-4a4d-8cad-3e9b299cd654",
        "colab": {
          "base_uri": "https://localhost:8080/"
        }
      },
      "execution_count": null,
      "outputs": [
        {
          "output_type": "stream",
          "name": "stdout",
          "text": [
            "['a', 'A', 'b', 'B', 'C', 'c']\n"
          ]
        }
      ]
    },
    {
      "cell_type": "code",
      "source": [
        "#9.count\n",
        "x=[1,6,8,5,9,5,4,7,5,9,0]\n",
        "ct=x.count(5)\n",
        "print(ct)\n",
        " \n"
      ],
      "metadata": {
        "colab": {
          "base_uri": "https://localhost:8080/"
        },
        "id": "OLRL1qMwAJlt",
        "outputId": "c7bd4adf-82c0-4cbf-8609-4e17ff89e465"
      },
      "execution_count": null,
      "outputs": [
        {
          "output_type": "stream",
          "name": "stdout",
          "text": [
            "3\n"
          ]
        }
      ]
    }
  ]
}